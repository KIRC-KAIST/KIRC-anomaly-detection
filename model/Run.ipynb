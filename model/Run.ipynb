{
 "cells": [
  {
   "cell_type": "markdown",
   "id": "a5e12a8d",
   "metadata": {},
   "source": [
    "\\# 1. Reconstruction Loss Inversion"
   ]
  },
  {
   "cell_type": "code",
   "execution_count": 4,
   "id": "1192da6d",
   "metadata": {
    "collapsed": true,
    "jupyter": {
     "outputs_hidden": true
    },
    "tags": []
   },
   "outputs": [
    {
     "name": "stdout",
     "output_type": "stream",
     "text": [
      "Traceback (most recent call last):\n",
      "  File \"train.py\", line 299, in <module>\n",
      "    main(args)\n",
      "  File \"train.py\", line 217, in main\n",
      "    epoch_loss = do_epoch.Train(train_loader, models, criterion, optimizers, feature_collector, device, noisy, log, args)\n",
      "  File \"/home/test/hyunsoo/pig_anomaly/Utils/do_epoch.py\", line 37, in Train\n",
      "    for video, labels, video_path in train_loader:\n",
      "  File \"/home/test/anaconda3/lib/python3.8/site-packages/torch/utils/data/dataloader.py\", line 521, in __next__\n",
      "    data = self._next_data()\n",
      "  File \"/home/test/anaconda3/lib/python3.8/site-packages/torch/utils/data/dataloader.py\", line 1203, in _next_data\n",
      "    return self._process_data(data)\n",
      "  File \"/home/test/anaconda3/lib/python3.8/site-packages/torch/utils/data/dataloader.py\", line 1229, in _process_data\n",
      "    data.reraise()\n",
      "  File \"/home/test/anaconda3/lib/python3.8/site-packages/torch/_utils.py\", line 425, in reraise\n",
      "    raise self.exc_type(msg)\n",
      "ImportError: Caught ImportError in DataLoader worker process 0.\n",
      "Original Traceback (most recent call last):\n",
      "  File \"/home/test/anaconda3/lib/python3.8/site-packages/torch/utils/data/_utils/worker.py\", line 287, in _worker_loop\n",
      "    data = fetcher.fetch(index)\n",
      "  File \"/home/test/anaconda3/lib/python3.8/site-packages/torch/utils/data/_utils/fetch.py\", line 44, in fetch\n",
      "    data = [self.dataset[idx] for idx in possibly_batched_index]\n",
      "  File \"/home/test/anaconda3/lib/python3.8/site-packages/torch/utils/data/_utils/fetch.py\", line 44, in <listcomp>\n",
      "    data = [self.dataset[idx] for idx in possibly_batched_index]\n",
      "  File \"/home/test/hyunsoo/pig_anomaly/data_loader.py\", line 46, in __getitem__\n",
      "    video, label, video_path = self.getitem_from_raw_video(index)\n",
      "  File \"/home/test/hyunsoo/pig_anomaly/data_loader.py\", line 24, in getitem_from_raw_video\n",
      "    video, _, _, _ = self.video_clips.get_clip(index)\n",
      "  File \"/home/test/anaconda3/lib/python3.8/site-packages/torchvision/datasets/video_utils.py\", line 330, in get_clip\n",
      "    video, audio, info = read_video(video_path, start_pts, end_pts)\n",
      "  File \"/home/test/anaconda3/lib/python3.8/site-packages/torchvision/io/video.py\", line 264, in read_video\n",
      "    _check_av_available()\n",
      "  File \"/home/test/anaconda3/lib/python3.8/site-packages/torchvision/io/video.py\", line 39, in _check_av_available\n",
      "    raise av\n",
      "ImportError: PyAV is not installed, and is necessary for the video operations in torchvision.\n",
      "See https://github.com/mikeboers/PyAV#installation for instructions on how to\n",
      "install PyAV on your system.\n",
      "\n",
      "\n"
     ]
    }
   ],
   "source": [
    "#---\n",
    "!python train.py --exp Inv_exp_1 --train exp_1_train --test exp_1_test --gpu 0"
   ]
  },
  {
   "cell_type": "markdown",
   "id": "4b51ee38",
   "metadata": {},
   "source": [
    "\\# 2. R.L.I + FGSM"
   ]
  },
  {
   "cell_type": "code",
   "execution_count": null,
   "id": "a22b21b7",
   "metadata": {
    "tags": []
   },
   "outputs": [],
   "source": [
    "!python train.py --exp Inv_FGSM_ep_0.1 --eps 0.1 --FGSM True --fgsm_type feature --train exp_4_train --test exp_4_test --gpu 0"
   ]
  }
 ],
 "metadata": {
  "interpreter": {
   "hash": "b69a98d3df882577ba469635c4ab08c5ae67eaedfd3a57f311f98966a6edb2d0"
  },
  "kernelspec": {
   "display_name": "pig-anomaly",
   "language": "python",
   "name": "pig-anomaly"
  },
  "language_info": {
   "codemirror_mode": {
    "name": "ipython",
    "version": 3
   },
   "file_extension": ".py",
   "mimetype": "text/x-python",
   "name": "python",
   "nbconvert_exporter": "python",
   "pygments_lexer": "ipython3",
   "version": "3.8.0"
  }
 },
 "nbformat": 4,
 "nbformat_minor": 5
}
