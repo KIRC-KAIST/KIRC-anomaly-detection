{
 "cells": [
  {
   "cell_type": "code",
   "execution_count": 2,
   "id": "484e2163",
   "metadata": {},
   "outputs": [],
   "source": [
    "import os\n",
    "import pickle\n",
    "import time\n",
    "\n",
    "from torchvision.datasets.video_utils import VideoClips\n",
    "\n",
    "import cv2\n",
    "from tqdm import tqdm\n",
    "\n",
    "import pandas as pd\n",
    "import numpy as np\n",
    "\n",
    "import warnings\n",
    "warnings.filterwarnings('ignore')"
   ]
  },
  {
   "cell_type": "code",
   "execution_count": 3,
   "id": "a553154b",
   "metadata": {},
   "outputs": [],
   "source": [
    "# video clip properties\n",
    "clip_length_in_frames=15\n",
    "frames_between_clips=clip_length_in_frames"
   ]
  },
  {
   "cell_type": "code",
   "execution_count": 4,
   "id": "af40fbab",
   "metadata": {},
   "outputs": [],
   "source": [
    "train_df = pd.read_csv('../data/label/exp_4_train.csv')\n",
    "test_df = pd.read_csv('../data/label/exp_4_test.csv')"
   ]
  },
  {
   "cell_type": "code",
   "execution_count": 5,
   "id": "f939c6a1",
   "metadata": {},
   "outputs": [
    {
     "data": {
      "text/html": [
       "<div>\n",
       "<style scoped>\n",
       "    .dataframe tbody tr th:only-of-type {\n",
       "        vertical-align: middle;\n",
       "    }\n",
       "\n",
       "    .dataframe tbody tr th {\n",
       "        vertical-align: top;\n",
       "    }\n",
       "\n",
       "    .dataframe thead th {\n",
       "        text-align: right;\n",
       "    }\n",
       "</style>\n",
       "<table border=\"1\" class=\"dataframe\">\n",
       "  <thead>\n",
       "    <tr style=\"text-align: right;\">\n",
       "      <th></th>\n",
       "      <th>Unnamed: 0</th>\n",
       "      <th>Unnamed: 0.1</th>\n",
       "      <th>video_path</th>\n",
       "      <th>label</th>\n",
       "    </tr>\n",
       "  </thead>\n",
       "  <tbody>\n",
       "    <tr>\n",
       "      <th>0</th>\n",
       "      <td>0</td>\n",
       "      <td>8642</td>\n",
       "      <td>../data/short_videos/9/9_323.mp4</td>\n",
       "      <td>0</td>\n",
       "    </tr>\n",
       "    <tr>\n",
       "      <th>1</th>\n",
       "      <td>1</td>\n",
       "      <td>873</td>\n",
       "      <td>../data/short_videos/10/10_345.mp4</td>\n",
       "      <td>0</td>\n",
       "    </tr>\n",
       "    <tr>\n",
       "      <th>2</th>\n",
       "      <td>2</td>\n",
       "      <td>8067</td>\n",
       "      <td>../data/short_videos/8/8_346.mp4</td>\n",
       "      <td>0</td>\n",
       "    </tr>\n",
       "    <tr>\n",
       "      <th>3</th>\n",
       "      <td>3</td>\n",
       "      <td>7394</td>\n",
       "      <td>../data/short_videos/7/7_28.mp4</td>\n",
       "      <td>0</td>\n",
       "    </tr>\n",
       "    <tr>\n",
       "      <th>4</th>\n",
       "      <td>4</td>\n",
       "      <td>2830</td>\n",
       "      <td>../data/short_videos/13/13_489.mp4</td>\n",
       "      <td>0</td>\n",
       "    </tr>\n",
       "    <tr>\n",
       "      <th>...</th>\n",
       "      <td>...</td>\n",
       "      <td>...</td>\n",
       "      <td>...</td>\n",
       "      <td>...</td>\n",
       "    </tr>\n",
       "    <tr>\n",
       "      <th>1175</th>\n",
       "      <td>1175</td>\n",
       "      <td>8945</td>\n",
       "      <td>../data/short_videos/9/9_597.mp4</td>\n",
       "      <td>3</td>\n",
       "    </tr>\n",
       "    <tr>\n",
       "      <th>1176</th>\n",
       "      <td>1176</td>\n",
       "      <td>8977</td>\n",
       "      <td>../data/short_videos/9/9_87.mp4</td>\n",
       "      <td>1</td>\n",
       "    </tr>\n",
       "    <tr>\n",
       "      <th>1177</th>\n",
       "      <td>1177</td>\n",
       "      <td>8979</td>\n",
       "      <td>../data/short_videos/9/9_89.mp4</td>\n",
       "      <td>1</td>\n",
       "    </tr>\n",
       "    <tr>\n",
       "      <th>1178</th>\n",
       "      <td>1178</td>\n",
       "      <td>8981</td>\n",
       "      <td>../data/short_videos/9/9_90.mp4</td>\n",
       "      <td>1</td>\n",
       "    </tr>\n",
       "    <tr>\n",
       "      <th>1179</th>\n",
       "      <td>1179</td>\n",
       "      <td>8985</td>\n",
       "      <td>../data/short_videos/9/9_94.mp4</td>\n",
       "      <td>1</td>\n",
       "    </tr>\n",
       "  </tbody>\n",
       "</table>\n",
       "<p>1180 rows × 4 columns</p>\n",
       "</div>"
      ],
      "text/plain": [
       "      Unnamed: 0  Unnamed: 0.1                          video_path  label\n",
       "0              0          8642    ../data/short_videos/9/9_323.mp4      0\n",
       "1              1           873  ../data/short_videos/10/10_345.mp4      0\n",
       "2              2          8067    ../data/short_videos/8/8_346.mp4      0\n",
       "3              3          7394     ../data/short_videos/7/7_28.mp4      0\n",
       "4              4          2830  ../data/short_videos/13/13_489.mp4      0\n",
       "...          ...           ...                                 ...    ...\n",
       "1175        1175          8945    ../data/short_videos/9/9_597.mp4      3\n",
       "1176        1176          8977     ../data/short_videos/9/9_87.mp4      1\n",
       "1177        1177          8979     ../data/short_videos/9/9_89.mp4      1\n",
       "1178        1178          8981     ../data/short_videos/9/9_90.mp4      1\n",
       "1179        1179          8985     ../data/short_videos/9/9_94.mp4      1\n",
       "\n",
       "[1180 rows x 4 columns]"
      ]
     },
     "execution_count": 5,
     "metadata": {},
     "output_type": "execute_result"
    }
   ],
   "source": [
    "test_df"
   ]
  },
  {
   "cell_type": "code",
   "execution_count": 44,
   "id": "490b3a99",
   "metadata": {
    "tags": []
   },
   "outputs": [
    {
     "data": {
      "application/vnd.jupyter.widget-view+json": {
       "model_id": "d0eb3a0b2a4b4c049d9fb0b295e344d9",
       "version_major": 2,
       "version_minor": 0
      },
      "text/plain": [
       "  0%|          | 0/489 [00:00<?, ?it/s]"
      ]
     },
     "metadata": {},
     "output_type": "display_data"
    },
    {
     "name": "stdout",
     "output_type": "stream",
     "text": [
      "Spent time: 0m 3s\n"
     ]
    }
   ],
   "source": [
    "# train dataset\n",
    "# data loading\n",
    "start=time.perf_counter()\n",
    "video_clips=VideoClips(video_paths=train_df['video_path'],\n",
    "                      clip_length_in_frames=clip_length_in_frames,\n",
    "                      frames_between_clips=frames_between_clips,\n",
    "                      num_workers=30)\n",
    "end=time.perf_counter()\n",
    "total=end-start\n",
    "print(f'Spent time: {total//60 :.0f}m {total%60 :.0f}s')"
   ]
  },
  {
   "cell_type": "code",
   "execution_count": 45,
   "id": "daafabfc",
   "metadata": {},
   "outputs": [],
   "source": [
    "# save video_clips class\n",
    "with open('../data/video_clip_pickles/exp_4_train.pkl', 'wb') as f:\n",
    "    pickle.dump(video_clips, f)"
   ]
  },
  {
   "cell_type": "code",
   "execution_count": 6,
   "id": "beece799",
   "metadata": {
    "tags": []
   },
   "outputs": [
    {
     "data": {
      "application/vnd.jupyter.widget-view+json": {
       "model_id": "8dbe6805ca7443279a3a5ca52b1f71c2",
       "version_major": 2,
       "version_minor": 0
      },
      "text/plain": [
       "  0%|          | 0/74 [00:00<?, ?it/s]"
      ]
     },
     "metadata": {},
     "output_type": "display_data"
    },
    {
     "name": "stdout",
     "output_type": "stream",
     "text": [
      "Spent time: 0m 1s\n"
     ]
    }
   ],
   "source": [
    "# test dataset\n",
    "# data loading\n",
    "start=time.perf_counter()\n",
    "video_clips=VideoClips(video_paths=test_df['video_path'],\n",
    "                      clip_length_in_frames=clip_length_in_frames,\n",
    "                      frames_between_clips=frames_between_clips,\n",
    "                      num_workers=30)\n",
    "end=time.perf_counter()\n",
    "total=end-start\n",
    "print(f'Spent time: {total//60 :.0f}m {total%60 :.0f}s')"
   ]
  },
  {
   "cell_type": "code",
   "execution_count": 10,
   "id": "db7c0323",
   "metadata": {},
   "outputs": [],
   "source": [
    "# save video_clips class\n",
    "with open('../data/video_clip_pickles/exp_4_test.pkl', 'wb') as f:\n",
    "    pickle.dump(video_clips, f)"
   ]
  }
 ],
 "metadata": {
  "interpreter": {
   "hash": "b69a98d3df882577ba469635c4ab08c5ae67eaedfd3a57f311f98966a6edb2d0"
  },
  "kernelspec": {
   "display_name": "pig-anomaly",
   "language": "python",
   "name": "pig-anomaly"
  },
  "language_info": {
   "codemirror_mode": {
    "name": "ipython",
    "version": 3
   },
   "file_extension": ".py",
   "mimetype": "text/x-python",
   "name": "python",
   "nbconvert_exporter": "python",
   "pygments_lexer": "ipython3",
   "version": "3.8.0"
  }
 },
 "nbformat": 4,
 "nbformat_minor": 5
}
