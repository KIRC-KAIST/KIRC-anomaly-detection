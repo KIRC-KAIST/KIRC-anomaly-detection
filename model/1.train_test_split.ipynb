{
 "cells": [
  {
   "cell_type": "code",
   "execution_count": 1,
   "metadata": {},
   "outputs": [],
   "source": [
    "import os\n",
    "import os.path as osp\n",
    "import re\n",
    "\n",
    "import numpy as np\n",
    "import pandas as pd\n",
    "\n",
    "from tqdm import tqdm"
   ]
  },
  {
   "cell_type": "code",
   "execution_count": 23,
   "metadata": {},
   "outputs": [],
   "source": [
    "label_csv = pd.read_csv('/home/test/Dataset/pig_anomaly/total_211222.csv')"
   ]
  },
  {
   "cell_type": "code",
   "execution_count": 5,
   "metadata": {},
   "outputs": [],
   "source": [
    "dataset_path = '/home/test/Dataset/pig_anomaly/short_videos'"
   ]
  },
  {
   "cell_type": "code",
   "execution_count": 4,
   "metadata": {},
   "outputs": [],
   "source": [
    "def get_video_list(dataset_path):\n",
    "    assert os.path.exists(dataset_path), f\"VideoIter:: failed to locate: '{dataset_path}''\"\n",
    "    vid_list=[]\n",
    "    for path, subdirs, files in os.walk(dataset_path):\n",
    "        for name in files:\n",
    "            if 'mp4' not in name:\n",
    "                continue\n",
    "            vid_list.append(os.path.join(path, name))\n",
    "    return vid_list"
   ]
  },
  {
   "cell_type": "code",
   "execution_count": 6,
   "metadata": {},
   "outputs": [],
   "source": [
    "# paths of total video clips : 8,991\n",
    "vid_list = get_video_list(dataset_path)"
   ]
  },
  {
   "cell_type": "code",
   "execution_count": 24,
   "metadata": {},
   "outputs": [
    {
     "name": "stderr",
     "output_type": "stream",
     "text": [
      "100%|██████████| 8991/8991 [00:09<00:00, 931.12it/s]\n"
     ]
    }
   ],
   "source": [
    "for path in tqdm(vid_list):\n",
    "    clip_name = osp.split(path)[1].split('.')[0]\n",
    "    label_csv.loc[label_csv['clip_name']==clip_name, 'video_path'] = path"
   ]
  },
  {
   "cell_type": "code",
   "execution_count": 25,
   "metadata": {},
   "outputs": [
    {
     "data": {
      "text/html": [
       "<div>\n",
       "<style scoped>\n",
       "    .dataframe tbody tr th:only-of-type {\n",
       "        vertical-align: middle;\n",
       "    }\n",
       "\n",
       "    .dataframe tbody tr th {\n",
       "        vertical-align: top;\n",
       "    }\n",
       "\n",
       "    .dataframe thead th {\n",
       "        text-align: right;\n",
       "    }\n",
       "</style>\n",
       "<table border=\"1\" class=\"dataframe\">\n",
       "  <thead>\n",
       "    <tr style=\"text-align: right;\">\n",
       "      <th></th>\n",
       "      <th>interval</th>\n",
       "      <th>label</th>\n",
       "      <th>clip_name</th>\n",
       "      <th>video_path</th>\n",
       "    </tr>\n",
       "  </thead>\n",
       "  <tbody>\n",
       "    <tr>\n",
       "      <th>0</th>\n",
       "      <td>0:0 - 0:3</td>\n",
       "      <td>0</td>\n",
       "      <td>1_0</td>\n",
       "      <td>/home/test/Dataset/pig_anomaly/short_videos/1/...</td>\n",
       "    </tr>\n",
       "    <tr>\n",
       "      <th>1</th>\n",
       "      <td>0:3 - 0:6</td>\n",
       "      <td>0</td>\n",
       "      <td>1_1</td>\n",
       "      <td>/home/test/Dataset/pig_anomaly/short_videos/1/...</td>\n",
       "    </tr>\n",
       "    <tr>\n",
       "      <th>2</th>\n",
       "      <td>0:6 - 0:9</td>\n",
       "      <td>0</td>\n",
       "      <td>1_2</td>\n",
       "      <td>/home/test/Dataset/pig_anomaly/short_videos/1/...</td>\n",
       "    </tr>\n",
       "    <tr>\n",
       "      <th>3</th>\n",
       "      <td>0:9 - 0:12</td>\n",
       "      <td>0</td>\n",
       "      <td>1_3</td>\n",
       "      <td>/home/test/Dataset/pig_anomaly/short_videos/1/...</td>\n",
       "    </tr>\n",
       "    <tr>\n",
       "      <th>4</th>\n",
       "      <td>0:12 - 0:15</td>\n",
       "      <td>0</td>\n",
       "      <td>1_4</td>\n",
       "      <td>/home/test/Dataset/pig_anomaly/short_videos/1/...</td>\n",
       "    </tr>\n",
       "  </tbody>\n",
       "</table>\n",
       "</div>"
      ],
      "text/plain": [
       "      interval  label clip_name  \\\n",
       "0    0:0 - 0:3      0       1_0   \n",
       "1    0:3 - 0:6      0       1_1   \n",
       "2    0:6 - 0:9      0       1_2   \n",
       "3   0:9 - 0:12      0       1_3   \n",
       "4  0:12 - 0:15      0       1_4   \n",
       "\n",
       "                                          video_path  \n",
       "0  /home/test/Dataset/pig_anomaly/short_videos/1/...  \n",
       "1  /home/test/Dataset/pig_anomaly/short_videos/1/...  \n",
       "2  /home/test/Dataset/pig_anomaly/short_videos/1/...  \n",
       "3  /home/test/Dataset/pig_anomaly/short_videos/1/...  \n",
       "4  /home/test/Dataset/pig_anomaly/short_videos/1/...  "
      ]
     },
     "execution_count": 25,
     "metadata": {},
     "output_type": "execute_result"
    }
   ],
   "source": [
    "label_csv.head()"
   ]
  },
  {
   "cell_type": "markdown",
   "metadata": {},
   "source": [
    "label : 0, 1, 2, 3, 4"
   ]
  },
  {
   "cell_type": "markdown",
   "metadata": {},
   "source": [
    "---"
   ]
  },
  {
   "cell_type": "markdown",
   "metadata": {},
   "source": [
    "\\# path change"
   ]
  },
  {
   "cell_type": "code",
   "execution_count": 20,
   "metadata": {},
   "outputs": [],
   "source": [
    "train_exp_1 = pd.read_csv('/home/test/hyunsoo/pig_anomaly/label/over_train_final_v2.csv')\n",
    "test_exp_1 = pd.read_csv('/home/test/hyunsoo/pig_anomaly/label/test_final_v2.csv')"
   ]
  },
  {
   "cell_type": "code",
   "execution_count": 3,
   "metadata": {},
   "outputs": [
    {
     "data": {
      "text/plain": [
       "['../../hdd/Dataset/pig_anomaly/short_videos/pigtrackingdataset2020/short_videos',\n",
       " '1',\n",
       " '1_43.mp4']"
      ]
     },
     "execution_count": 3,
     "metadata": {},
     "output_type": "execute_result"
    }
   ],
   "source": [
    "train_exp_1['video_path'][0].split('\\\\')"
   ]
  },
  {
   "cell_type": "markdown",
   "metadata": {},
   "source": [
    "base_path = '/home/test/hdd/Dataset/pig_anomaly/short_videos/'"
   ]
  },
  {
   "cell_type": "code",
   "execution_count": 21,
   "metadata": {},
   "outputs": [],
   "source": [
    "base_path = '../../hdd/Dataset/pig_anomaly/short_videos/'"
   ]
  },
  {
   "cell_type": "code",
   "execution_count": 22,
   "metadata": {},
   "outputs": [],
   "source": [
    "def path_change(path, base_path):\n",
    "    res = path.split('\\\\')\n",
    "    path = osp.join(base_path, res[-2], res[-1])    \n",
    "    return path"
   ]
  },
  {
   "cell_type": "code",
   "execution_count": 23,
   "metadata": {},
   "outputs": [],
   "source": [
    "train_exp_1['video_path'] = train_exp_1['video_path'].apply(lambda x: path_change(x, base_path))\n",
    "# test_exp_1['video_path'] = test_exp_1['video_path'].apply(lambda x: path_change(x, base_path))"
   ]
  },
  {
   "cell_type": "code",
   "execution_count": 24,
   "metadata": {},
   "outputs": [],
   "source": [
    "train_exp_1.reset_index(drop=True, inplace=True)\n",
    "# test_exp_1.reset_index(drop=True, inplace=True)"
   ]
  },
  {
   "cell_type": "code",
   "execution_count": 25,
   "metadata": {},
   "outputs": [],
   "source": [
    "train_exp_1.to_csv('/home/test/hyunsoo/pig_anomaly/label/over_train_final_v2.csv', index=False)\n",
    "# test_exp_1.to_csv('/home/test/hyunsoo/pig_anomaly/label/test_final_v2.csv', index=False)"
   ]
  }
 ],
 "metadata": {
  "kernelspec": {
   "display_name": "Python 3 (ipykernel)",
   "language": "python",
   "name": "python3"
  },
  "language_info": {
   "codemirror_mode": {
    "name": "ipython",
    "version": 3
   },
   "file_extension": ".py",
   "mimetype": "text/x-python",
   "name": "python",
   "nbconvert_exporter": "python",
   "pygments_lexer": "ipython3",
   "version": "3.7.0"
  }
 },
 "nbformat": 4,
 "nbformat_minor": 4
}
